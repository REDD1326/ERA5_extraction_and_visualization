{
 "cells": [
  {
   "cell_type": "markdown",
   "id": "e06e9211-5271-4f99-b016-fa249013ebbb",
   "metadata": {},
   "source": [
    "## ERA5 climate data download"
   ]
  },
  {
   "cell_type": "code",
   "execution_count": null,
   "id": "afe19ed4",
   "metadata": {},
   "outputs": [],
   "source": [
    "import os"
   ]
  },
  {
   "cell_type": "code",
   "execution_count": null,
   "id": "5a31ec6a",
   "metadata": {},
   "outputs": [],
   "source": [
    "# Change the current working directory\n",
    "os.chdir('../data')"
   ]
  },
  {
   "cell_type": "code",
   "execution_count": null,
   "id": "3fddde09-8b56-4a3b-a320-a03ba9827675",
   "metadata": {},
   "outputs": [],
   "source": [
    "# Install library for cds api\n",
    "conda install -c conda-forge cdsapi"
   ]
  },
  {
   "cell_type": "markdown",
   "id": "1ef9a6a4-7e38-44fd-b785-7110c2e99081",
   "metadata": {},
   "source": [
    "* The following code is a modification of the query returned by the CDS API. \n",
    "\n",
    "* The code make a request by year and return a .nc file by year."
   ]
  },
  {
   "cell_type": "code",
   "execution_count": null,
   "id": "905edd33-b747-4717-8c5d-ddfaa771f13f",
   "metadata": {
    "scrolled": false,
    "tags": []
   },
   "outputs": [],
   "source": [
    "import cdsapi\n",
    "\n",
    "c = cdsapi.Client()\n",
    "\n",
    "years = list(range(2015, 2021))\n",
    "\n",
    "for year in years:\n",
    "    c.retrieve(\n",
    "    'reanalysis-era5-land',\n",
    "    {\n",
    "        'variable': [\n",
    "            '2m_temperature', 'total_precipitation',\n",
    "        ],\n",
    "        'year': str(year),\n",
    "        'month': [\n",
    "            '01', '02', '03',\n",
    "            '04', '05', '06',\n",
    "            '07', '08', '09',\n",
    "            '10', '11', '12',\n",
    "        ],\n",
    "        'day': [\n",
    "            '01', '02', '03',\n",
    "            '04', '05', '06',\n",
    "            '07', '08', '09',\n",
    "            '10', '11', '12',\n",
    "            '13', '14', '15',\n",
    "            '16', '17', '18',\n",
    "            '19', '20', '21',\n",
    "            '22', '23', '24',\n",
    "            '25', '26', '27',\n",
    "            '28', '29', '30',\n",
    "            '31',\n",
    "        ],\n",
    "        'time': [\n",
    "            '11:00', '12:00', '13:00',\n",
    "        ],\n",
    "        'area': [\n",
    "            43, 0, 41,\n",
    "            3,\n",
    "        ],\n",
    "        'format': 'netcdf',\n",
    "    },\n",
    "    'data_' + str(year) + '.nc')\n",
    "\n",
    "    print('data_' + str(year) + '.nc' + ' downloaded.')\n",
    "\n"
   ]
  }
 ],
 "metadata": {
  "kernelspec": {
   "display_name": "Python 3 (ipykernel)",
   "language": "python",
   "name": "python3"
  },
  "language_info": {
   "codemirror_mode": {
    "name": "ipython",
    "version": 3
   },
   "file_extension": ".py",
   "mimetype": "text/x-python",
   "name": "python",
   "nbconvert_exporter": "python",
   "pygments_lexer": "ipython3",
   "version": "3.9.7"
  }
 },
 "nbformat": 4,
 "nbformat_minor": 5
}
