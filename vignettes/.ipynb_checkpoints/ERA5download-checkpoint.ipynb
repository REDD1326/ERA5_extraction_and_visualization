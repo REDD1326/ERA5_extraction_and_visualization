{
 "cells": [
  {
   "cell_type": "code",
   "execution_count": 1,
   "id": "905edd33-b747-4717-8c5d-ddfaa771f13f",
   "metadata": {
    "tags": []
   },
   "outputs": [
    {
     "ename": "SyntaxError",
     "evalue": "closing parenthesis ']' does not match opening parenthesis '{' on line 10 (Temp/ipykernel_21068/1534573424.py, line 15)",
     "output_type": "error",
     "traceback": [
      "\u001b[1;36m  File \u001b[1;32m\"C:\\Users\\ruthd\\AppData\\Local\\Temp/ipykernel_21068/1534573424.py\"\u001b[1;36m, line \u001b[1;32m15\u001b[0m\n\u001b[1;33m    ],\u001b[0m\n\u001b[1;37m    ^\u001b[0m\n\u001b[1;31mSyntaxError\u001b[0m\u001b[1;31m:\u001b[0m closing parenthesis ']' does not match opening parenthesis '{' on line 10\n"
     ]
    }
   ],
   "source": [
    "import cdsapi\n",
    "\n",
    "c = cdsapi.Client()\n",
    "\n",
    "years = list(range(2015, 2020))\n",
    "\n",
    "for year in years:\n",
    "    c.retrieve(\n",
    "    'reanalysis-era5-land',\n",
    "    {\n",
    "        'variable': [\n",
    "            '2m_temperature', 'total_precipitation',\n",
    "        ],\n",
    "        'year': str(year),\n",
    "        'month': [\n",
    "            '01', '02', '03',\n",
    "            '04', '05', '06',\n",
    "            '07', '08', '09',\n",
    "            '10', '11', '12',\n",
    "        ],\n",
    "        'day': [\n",
    "            '01', '02', '03',\n",
    "            '04', '05', '06',\n",
    "            '07', '08', '09',\n",
    "            '10', '11', '12',\n",
    "            '13', '14', '15',\n",
    "            '16', '17', '18',\n",
    "            '19', '20', '21',\n",
    "            '22', '23', '24',\n",
    "            '25', '26', '27',\n",
    "            '28', '29', '30',\n",
    "            '31',\n",
    "        ],\n",
    "        'time': [\n",
    "            '11:00', '12:00', '13:00',\n",
    "        ],\n",
    "        'area': [\n",
    "            43, 0, 41,\n",
    "            3,\n",
    "        ],\n",
    "        'format': 'netcdf',\n",
    "    },\n",
    "    'data_' + str(year) + '.nc')\n",
    "\n",
    "    print('data_' + str(year) + '.nc' + ' downloaded.')\n",
    "\n"
   ]
  },
  {
   "cell_type": "code",
   "execution_count": null,
   "id": "611aeb7c-a6f4-45a6-a8c2-2a7f0d67db9e",
   "metadata": {},
   "outputs": [],
   "source": []
  }
 ],
 "metadata": {
  "kernelspec": {
   "display_name": "Python 3 (ipykernel)",
   "language": "python",
   "name": "python3"
  },
  "language_info": {
   "codemirror_mode": {
    "name": "ipython",
    "version": 3
   },
   "file_extension": ".py",
   "mimetype": "text/x-python",
   "name": "python",
   "nbconvert_exporter": "python",
   "pygments_lexer": "ipython3",
   "version": "3.9.7"
  }
 },
 "nbformat": 4,
 "nbformat_minor": 5
}
